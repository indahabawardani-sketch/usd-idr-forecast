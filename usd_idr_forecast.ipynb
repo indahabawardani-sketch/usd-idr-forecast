{
  "cells": [
    {
      "cell_type": "markdown",
      "metadata": {},
      "source": [
        "# USD/IDR Forecast (ARIMA + LSTM)\n",
        "\n",
        "Replicates the methodology of Lakhal (2024) on USD/IDR using only open-source libraries.\n",
        "\n",
        "**Pipeline**: Fetch data \u2192 Stationarity tests (ADF, KPSS) \u2192 ARIMA (or ARMA) \u2192 LSTM \u2192 Compare MAE/MSE.\n",
        "\n",
        "**Note**: If the LSTM section is too heavy for Binder, set `RUN_LSTM = False` below to run ARIMA-only."
      ]
    },
    {
      "cell_type": "code",
      "metadata": {},
      "execution_count": null,
      "outputs": [],
      "source": [
        "RUN_LSTM = False  # set to False if Binder is slow\n",
        "START = '2018-01-01'\n",
        "END = None  # use latest\n",
        "FREQ = 'M'  # monthly to match the paper"
      ]
    },
    {
      "cell_type": "code",
      "metadata": {},
      "execution_count": null,
      "outputs": [],
      "source": [
        "import pandas as pd, numpy as np, matplotlib.pyplot as plt\n",
        "from sklearn.metrics import mean_absolute_error, mean_squared_error\n",
        "import warnings\n",
        "warnings.filterwarnings('ignore')\n",
        "\n",
        "import yfinance as yf\n",
        "symbol = 'USDIDR=X'\n",
        "raw = yf.download(symbol, start=START, end=END)\n",
        "if raw.empty:\n",
        "    raise RuntimeError('No data fetched. Try a different date range or check network access.')\n",
        "\n",
        "# Monthly close\n",
        "ts = raw['Close'].resample(FREQ).last().dropna()\n",
        "ts.name = 'USDIDR'\n",
        "display(ts.head(), ts.tail())\n",
        "ts.plot(title=f'{symbol} ({FREQ})'); plt.show()"
      ]
    },
    {
      "cell_type": "code",
      "metadata": {},
      "execution_count": null,
      "outputs": [],
      "source": [
        "# Stationarity tests: ADF, KPSS\n",
        "from statsmodels.tsa.stattools import adfuller, kpss\n",
        "\n",
        "adf_stat, adf_p, _, _, adf_crit, _ = adfuller(ts.values, autolag='AIC')\n",
        "kpss_stat, kpss_p, kpss_lags, kpss_crit = kpss(ts.values, regression='c', nlags='auto')\n",
        "\n",
        "print('ADF: stat=%.4f, p=%.4f' % (adf_stat, adf_p))\n",
        "print('ADF crit:', adf_crit)\n",
        "print('KPSS: stat=%.4f, p=%.4f, lags=%s' % (kpss_stat, kpss_p, kpss_lags))\n",
        "print('KPSS crit:', kpss_crit)"
      ]
    },
    {
      "cell_type": "code",
      "metadata": {},
      "execution_count": null,
      "outputs": [],
      "source": [
        "# Train/test split: last 12 months as test (like the paper)\n",
        "h = 12\n",
        "train = ts.iloc[:-h]\n",
        "test = ts.iloc[-h:]\n",
        "train.tail(), test.head()"
      ]
    },
    {
      "cell_type": "code",
      "metadata": {},
      "execution_count": null,
      "outputs": [],
      "source": [
        "# ARIMA/ARMA via pmdarima auto_arima (fallback to ARIMA(1,1,1) if needed)\n",
        "import pmdarima as pm\n",
        "try:\n",
        "    auto = pm.auto_arima(train, seasonal=False, stepwise=True, suppress_warnings=True, information_criterion='aic')\n",
        "    print(auto.summary())\n",
        "    arima_forecast = auto.predict(n_periods=h)\n",
        "except Exception as e:\n",
        "    print('auto_arima failed, fallback to simple ARIMA(1,1,1):', e)\n",
        "    from statsmodels.tsa.arima.model import ARIMA\n",
        "    mdl = ARIMA(train, order=(1,1,1)).fit()\n",
        "    arima_forecast = mdl.forecast(steps=h)\n",
        "\n",
        "arima_pred = pd.Series(arima_forecast, index=test.index, name='ARIMA')\n",
        "mae_arima = mean_absolute_error(test, arima_pred)\n",
        "mse_arima = mean_squared_error(test, arima_pred)\n",
        "print('ARIMA MAE=%.6f MSE=%.6f' % (mae_arima, mse_arima))\n",
        "\n",
        "ax = ts.plot(label='Actual')\n",
        "arima_pred.plot(ax=ax, label='ARIMA forecast')\n",
        "plt.legend(); plt.title('ARIMA vs Actual'); plt.show()"
      ]
    },
    {
      "cell_type": "code",
      "metadata": {},
      "execution_count": null,
      "outputs": [],
      "source": [
        "# LSTM (optional)\n",
        "lstm_results = None\n",
        "if RUN_LSTM:\n",
        "    import tensorflow as tf\n",
        "    from tensorflow.keras.models import Sequential\n",
        "    from tensorflow.keras.layers import LSTM, Dense\n",
        "    from sklearn.preprocessing import MinMaxScaler\n",
        "\n",
        "    scaler = MinMaxScaler()\n",
        "    train_scaled = scaler.fit_transform(train.to_frame())\n",
        "\n",
        "    # create sequences\n",
        "    def make_sequences(a, n_steps=6):\n",
        "        X, y = [], []\n",
        "        for i in range(len(a)-n_steps):\n",
        "            X.append(a[i:i+n_steps, 0])\n",
        "            y.append(a[i+n_steps, 0])\n",
        "        X = np.array(X)\n",
        "        y = np.array(y)\n",
        "        return X.reshape((X.shape[0], X.shape[1], 1)), y\n",
        "\n",
        "    n_steps = 6\n",
        "    X, y = make_sequences(train_scaled, n_steps)\n",
        "\n",
        "    model = Sequential([\n",
        "        LSTM(32, activation='tanh', input_shape=(n_steps,1)),\n",
        "        Dense(1)\n",
        "    ])\n",
        "    model.compile(optimizer='adam', loss='mse')\n",
        "    model.fit(X, y, epochs=200, batch_size=8, verbose=0)\n",
        "\n",
        "    # Recursive forecasting for h months ahead\n",
        "    history = train_scaled.copy()\n",
        "    last_seq = history[-n_steps:, 0].reshape((1, n_steps, 1))\n",
        "    preds_scaled = []\n",
        "    for _ in range(h):\n",
        "        yhat = model.predict(last_seq, verbose=0)[0,0]\n",
        "        preds_scaled.append(yhat)\n",
        "        last_seq = np.append(last_seq.flatten()[1:], yhat).reshape((1, n_steps, 1))\n",
        "\n",
        "    lstm_pred = scaler.inverse_transform(np.array(preds_scaled).reshape(-1,1)).flatten()\n",
        "    lstm_pred = pd.Series(lstm_pred, index=test.index, name='LSTM')\n",
        "    mae_lstm = mean_absolute_error(test, lstm_pred)\n",
        "    mse_lstm = mean_squared_error(test, lstm_pred)\n",
        "    print('LSTM MAE=%.6f MSE=%.6f' % (mae_lstm, mse_lstm))\n",
        "    ax = ts.plot(label='Actual')\n",
        "    lstm_pred.plot(ax=ax, label='LSTM forecast')\n",
        "    plt.legend(); plt.title('LSTM vs Actual'); plt.show()\n",
        "    lstm_results = (mae_lstm, mse_lstm)\n",
        "else:\n",
        "    print('LSTM skipped. Set RUN_LSTM=True to run it (may be slower on Binder).')"
      ]
    },
    {
      "cell_type": "code",
      "metadata": {},
      "execution_count": null,
      "outputs": [],
      "source": [
        "# Comparison table\n",
        "rows = [{'Model':'ARIMA','MAE':mae_arima,'MSE':mse_arima}]\n",
        "if lstm_results:\n",
        "    rows.append({'Model':'LSTM','MAE':lstm_results[0],'MSE':lstm_results[1]})\n",
        "df_metrics = pd.DataFrame(rows)\n",
        "display(df_metrics)\n",
        "df_metrics.plot(x='Model', y=['MAE','MSE'], kind='bar'); plt.title('Metrics'); plt.show()"
      ]
    },
    {
      "cell_type": "markdown",
      "metadata": {},
      "source": [
        "### Notes\n",
        "- Using **monthly** data mirrors the paper. You can switch `FREQ='D'` for daily.\n",
        "- If ADF says **non-stationary**, `auto_arima` will difference the series.\n",
        "- The LSTM is intentionally small to run on Binder's limited CPU."
      ]
    }
  ],
  "metadata": {
    "kernelspec": {
      "display_name": "Python 3",
      "language": "python",
      "name": "python3"
    },
    "language_info": {
      "name": "python",
      "version": "3.x"
    }
  },
  "nbformat": 4,
  "nbformat_minor": 5
}
